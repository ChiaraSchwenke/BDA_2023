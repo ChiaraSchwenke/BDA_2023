{
  "cells": [
    {
      "cell_type": "markdown",
      "metadata": {
        "id": "view-in-github",
        "colab_type": "text"
      },
      "source": [
        "<a href=\"https://colab.research.google.com/github/ChiaraSchwenke/Fairness-Bias-algorithmischer-Entscheidungssysteme/blob/main/Erste_Schritte_in_Python.ipynb\" target=\"_parent\"><img src=\"https://colab.research.google.com/assets/colab-badge.svg\" alt=\"Open In Colab\"/></a>"
      ]
    },
    {
      "cell_type": "markdown",
      "source": [
        "## **BDA 2023**\n",
        "### **Übung 01 - Erste Schritte in Python**\n"
      ],
      "metadata": {
        "id": "mMQWMLHtT2or"
      }
    },
    {
      "cell_type": "markdown",
      "source": [
        "**Basis-Datentypen**"
      ],
      "metadata": {
        "id": "HldC7Lb1T7r1"
      }
    },
    {
      "cell_type": "code",
      "execution_count": null,
      "outputs": [
        {
          "output_type": "execute_result",
          "data": {
            "text/plain": [
              "str"
            ]
          },
          "metadata": {},
          "execution_count": 25
        }
      ],
      "source": [
        "#String\n",
        "name = \"Fred\"\n",
        "type(name)"
      ],
      "metadata": {
        "pycharm": {
          "name": "#%%\n"
        },
        "colab": {
          "base_uri": "https://localhost:8080/"
        },
        "id": "kE27I_eNOoO_",
        "outputId": "ebea2218-57e6-48d9-acae-3c17af1c6570"
      }
    },
    {
      "cell_type": "code",
      "source": [
        "#Boolean\n",
        "licht = True\n",
        "type(licht)"
      ],
      "metadata": {
        "colab": {
          "base_uri": "https://localhost:8080/"
        },
        "id": "SE-opBt0U4WM",
        "outputId": "27785e1f-ec1a-4d44-b648-a20908fdbbaf"
      },
      "execution_count": null,
      "outputs": [
        {
          "output_type": "execute_result",
          "data": {
            "text/plain": [
              "bool"
            ]
          },
          "metadata": {},
          "execution_count": 1
        }
      ]
    },
    {
      "cell_type": "code",
      "source": [
        "#Integer\n",
        "anzahl = 5\n",
        "type(anzahl)"
      ],
      "metadata": {
        "colab": {
          "base_uri": "https://localhost:8080/"
        },
        "id": "zPofohyNVzgw",
        "outputId": "829aa9f1-6873-4bea-9fc0-0a1e5abfd122"
      },
      "execution_count": null,
      "outputs": [
        {
          "output_type": "execute_result",
          "data": {
            "text/plain": [
              "int"
            ]
          },
          "metadata": {},
          "execution_count": 2
        }
      ]
    },
    {
      "cell_type": "code",
      "source": [
        "#Float\n",
        "note = 1.75\n",
        "type(note)"
      ],
      "metadata": {
        "colab": {
          "base_uri": "https://localhost:8080/"
        },
        "id": "mKP4vH1CW_vt",
        "outputId": "e53f2200-ad02-4fd6-efd6-e2945ef7da77"
      },
      "execution_count": null,
      "outputs": [
        {
          "output_type": "execute_result",
          "data": {
            "text/plain": [
              "float"
            ]
          },
          "metadata": {},
          "execution_count": 3
        }
      ]
    },
    {
      "cell_type": "markdown",
      "source": [
        "**Umwandlung (type casting) eines Datentyps**"
      ],
      "metadata": {
        "id": "duDPgkPv3YC3"
      }
    },
    {
      "cell_type": "code",
      "source": [
        "a = 1\n",
        "print(a)"
      ],
      "metadata": {
        "colab": {
          "base_uri": "https://localhost:8080/"
        },
        "id": "k07v3t5BXwG5",
        "outputId": "61b0677c-ea19-47f1-a2c9-e217fcc770eb"
      },
      "execution_count": null,
      "outputs": [
        {
          "output_type": "stream",
          "name": "stdout",
          "text": [
            "1\n"
          ]
        }
      ]
    },
    {
      "cell_type": "code",
      "source": [
        "type(a)"
      ],
      "metadata": {
        "colab": {
          "base_uri": "https://localhost:8080/"
        },
        "id": "5AsTMqFyYA5g",
        "outputId": "acb22fa5-18c4-4b04-86ca-d5bfbccb3c97"
      },
      "execution_count": null,
      "outputs": [
        {
          "output_type": "execute_result",
          "data": {
            "text/plain": [
              "int"
            ]
          },
          "metadata": {},
          "execution_count": 33
        }
      ]
    },
    {
      "cell_type": "code",
      "source": [
        "a = float(a)\n",
        "print(a)"
      ],
      "metadata": {
        "colab": {
          "base_uri": "https://localhost:8080/"
        },
        "id": "CvHpxiK_YDmL",
        "outputId": "55e2e99d-377d-40e0-e144-e1186e78ae62"
      },
      "execution_count": null,
      "outputs": [
        {
          "output_type": "stream",
          "name": "stdout",
          "text": [
            "1.0\n"
          ]
        }
      ]
    },
    {
      "cell_type": "code",
      "source": [
        "type(a)"
      ],
      "metadata": {
        "colab": {
          "base_uri": "https://localhost:8080/"
        },
        "id": "DkaiJYBmYL1l",
        "outputId": "110d6f1c-562b-49fc-f3fd-51d30194a847"
      },
      "execution_count": null,
      "outputs": [
        {
          "output_type": "execute_result",
          "data": {
            "text/plain": [
              "float"
            ]
          },
          "metadata": {},
          "execution_count": 35
        }
      ]
    },
    {
      "cell_type": "markdown",
      "source": [
        "**Container-Datentypen**"
      ],
      "metadata": {
        "id": "k1PUZLntQoWk"
      }
    },
    {
      "cell_type": "code",
      "source": [
        "einkaufsliste = [\"Äpfel\", \"Birnen\", \"Orangen\"]\n",
        "noten = [1,2,3,4,5,6]\n",
        "einkaufsliste_new = [\"Kiwi\", \"Feige\"]"
      ],
      "metadata": {
        "id": "G9CQdMLNYxto"
      },
      "execution_count": null,
      "outputs": []
    },
    {
      "cell_type": "code",
      "source": [
        "#Übersicht über Funktionen und Methoden für Listen\n",
        "laenge = len(noten)\n",
        "print(\"Länge: \", laenge)\n",
        "\n",
        "#max(noten)\n",
        "#min(noten)\n",
        "\n",
        "print(\"Einkaufsliste: \", noten)\n",
        "\n",
        "print(\"Der dritte Eintrag ist: \", noten[2])\n",
        "\n",
        "einkaufsliste.append(\"Birne\")\n",
        "print(\"Einkaufsliste ergänzt mit Birne: \", einkaufsliste)\n",
        "\n",
        "\n",
        "einkaufsliste.extend(einkaufsliste_new)\n",
        "print(\"Einkaufsliste und Einkaufsliste_new: \", einkaufsliste)\n"
      ],
      "metadata": {
        "colab": {
          "base_uri": "https://localhost:8080/"
        },
        "id": "Tw1MivDGZJv9",
        "outputId": "bec3e2b6-d037-4394-9635-e2b0cf5f51bc"
      },
      "execution_count": null,
      "outputs": [
        {
          "output_type": "stream",
          "name": "stdout",
          "text": [
            "Länge:  6\n",
            "Einkaufsliste:  [1, 2, 3, 4, 5, 6]\n",
            "Der dritte Eintrag ist:  3\n",
            "Einkaufsliste ergänzt mit Birne:  ['Äpfel', 'Birnen', 'Orangen', 'Birne']\n",
            "Einkaufsliste und Einkaufsliste_new:  ['Äpfel', 'Birnen', 'Orangen', 'Birne', 'Kiwi', 'Feige']\n"
          ]
        }
      ]
    },
    {
      "cell_type": "code",
      "source": [
        "for counter, value in enumerate(noten):\n",
        "    print (counter, value)"
      ],
      "metadata": {
        "colab": {
          "base_uri": "https://localhost:8080/"
        },
        "id": "6xB7PzSbbiLK",
        "outputId": "e140db11-5460-4b5b-98ab-51bf0b9fc272"
      },
      "execution_count": null,
      "outputs": [
        {
          "output_type": "stream",
          "name": "stdout",
          "text": [
            "0 1\n",
            "1 2\n",
            "2 3\n",
            "3 4\n",
            "4 5\n",
            "5 6\n"
          ]
        }
      ]
    },
    {
      "cell_type": "code",
      "source": [
        "einkaufsliste = (\"Äpfel\", \"Bananen\", \"Orangen\")\n",
        "type(einkaufsliste)"
      ],
      "metadata": {
        "colab": {
          "base_uri": "https://localhost:8080/"
        },
        "id": "HEFTxKxEckYT",
        "outputId": "9af93a3e-cf06-4c75-afa6-2fce39e85fbd"
      },
      "execution_count": null,
      "outputs": [
        {
          "output_type": "execute_result",
          "data": {
            "text/plain": [
              "tuple"
            ]
          },
          "metadata": {},
          "execution_count": 28
        }
      ]
    },
    {
      "cell_type": "code",
      "source": [
        "notenDict = {1: \"sehr gut\", 2: \"gut\", 3: \"befriedigend\", 4: \"ausreichend\", 5: \"mangelhaft\", 6: \"ungenügend\"}\n",
        "print(notenDict)"
      ],
      "metadata": {
        "colab": {
          "base_uri": "https://localhost:8080/"
        },
        "id": "PEyBcm6kdJwz",
        "outputId": "1c8bbe18-cb59-44b4-eacb-8e7cf745594a"
      },
      "execution_count": null,
      "outputs": [
        {
          "output_type": "stream",
          "name": "stdout",
          "text": [
            "{1: 'sehr gut', 2: 'gut', 3: 'befriedigend', 4: 'ausreichend', 5: 'mangelhaft', 6: 'ungenügend'}\n"
          ]
        }
      ]
    },
    {
      "cell_type": "markdown",
      "source": [
        "**Variablen**"
      ],
      "metadata": {
        "id": "5jI_M570Q7K-"
      }
    },
    {
      "cell_type": "code",
      "source": [
        "4ktuelles_jahr = 2023"
      ],
      "metadata": {
        "colab": {
          "base_uri": "https://localhost:8080/",
          "height": 133
        },
        "id": "o-g0cQ8uek96",
        "outputId": "6595060a-b5f1-43fe-cbc7-a409fecf8845"
      },
      "execution_count": null,
      "outputs": [
        {
          "output_type": "error",
          "ename": "SyntaxError",
          "evalue": "ignored",
          "traceback": [
            "\u001b[0;36m  File \u001b[0;32m\"<ipython-input-63-362b266d1bed>\"\u001b[0;36m, line \u001b[0;32m1\u001b[0m\n\u001b[0;31m    4ktuelles_jahr = 2023\u001b[0m\n\u001b[0m     ^\u001b[0m\n\u001b[0;31mSyntaxError\u001b[0m\u001b[0;31m:\u001b[0m invalid syntax\n"
          ]
        }
      ]
    },
    {
      "cell_type": "code",
      "source": [
        "and = 2023"
      ],
      "metadata": {
        "colab": {
          "base_uri": "https://localhost:8080/",
          "height": 134
        },
        "id": "bubirj0bM1-W",
        "outputId": "3b8c755e-7fb0-4dd3-8e0e-bd1291d77c5c"
      },
      "execution_count": null,
      "outputs": [
        {
          "output_type": "error",
          "ename": "SyntaxError",
          "evalue": "ignored",
          "traceback": [
            "\u001b[0;36m  File \u001b[0;32m\"<ipython-input-13-efe78baedafd>\"\u001b[0;36m, line \u001b[0;32m1\u001b[0m\n\u001b[0;31m    and = 2023\u001b[0m\n\u001b[0m    ^\u001b[0m\n\u001b[0;31mSyntaxError\u001b[0m\u001b[0;31m:\u001b[0m invalid syntax\n"
          ]
        }
      ]
    },
    {
      "cell_type": "markdown",
      "source": [
        "**Kommentare**"
      ],
      "metadata": {
        "id": "gl-ZGYNXQ_Ti"
      }
    },
    {
      "cell_type": "code",
      "source": [
        "#Kommentare \n",
        "c = 5 #Anzahl der gekauften Produkte\n",
        "\n",
        "\"\"\"\n",
        "Der Code kann wie folgt ergänzt werden:\n",
        "d = c*7\n",
        "\"\"\"\n"
      ],
      "metadata": {
        "colab": {
          "base_uri": "https://localhost:8080/",
          "height": 35
        },
        "id": "bJI6xIbAgHot",
        "outputId": "be3ff5d7-a677-4fd7-baf5-74fa14cce907"
      },
      "execution_count": null,
      "outputs": [
        {
          "output_type": "execute_result",
          "data": {
            "text/plain": [
              "'\\nDer Code kann wie folgt ergänzt werden:\\nd = c*7\\n'"
            ],
            "application/vnd.google.colaboratory.intrinsic+json": {
              "type": "string"
            }
          },
          "metadata": {},
          "execution_count": 65
        }
      ]
    },
    {
      "cell_type": "markdown",
      "source": [
        "**Funktionen**"
      ],
      "metadata": {
        "id": "Y-wJO3tvRFgc"
      }
    },
    {
      "cell_type": "code",
      "source": [
        "def summe(a, b):\n",
        "  return a+b"
      ],
      "metadata": {
        "id": "4ADdT1KYh5Ol"
      },
      "execution_count": null,
      "outputs": []
    },
    {
      "cell_type": "code",
      "source": [
        "ergebnis = summe(1,3)\n",
        "print(ergebnis)"
      ],
      "metadata": {
        "colab": {
          "base_uri": "https://localhost:8080/"
        },
        "id": "lBax1-9XiARN",
        "outputId": "9f4adfa5-dc0b-4d03-d516-a1088e373235"
      },
      "execution_count": null,
      "outputs": [
        {
          "output_type": "stream",
          "name": "stdout",
          "text": [
            "4\n"
          ]
        }
      ]
    },
    {
      "cell_type": "markdown",
      "source": [
        "**Bedingungen**"
      ],
      "metadata": {
        "id": "kNBQyik3RIu7"
      }
    },
    {
      "cell_type": "code",
      "source": [
        "a = 20\n",
        "b = 100\n",
        "if b <= a:\n",
        "  print(\"b ist kleiner gleich als a\")\n",
        "else:\n",
        "  print(\"b ist größer als a\")"
      ],
      "metadata": {
        "colab": {
          "base_uri": "https://localhost:8080/"
        },
        "id": "pKDmww4xjb-M",
        "outputId": "57bf496f-bcde-4cc1-a644-b7538fcd2a70"
      },
      "execution_count": null,
      "outputs": [
        {
          "output_type": "stream",
          "name": "stdout",
          "text": [
            "b ist größer als a\n"
          ]
        }
      ]
    },
    {
      "cell_type": "code",
      "source": [
        "a = 20\n",
        "b = 20\n",
        "if b < a:\n",
        "  print(\"b ist kleiner als a\")\n",
        "elif b > a:\n",
        "  print(\"b ist größer als a\")\n",
        "else:\n",
        "  print(\"b und a sind gleich groß\")"
      ],
      "metadata": {
        "colab": {
          "base_uri": "https://localhost:8080/"
        },
        "id": "HyjDoofVj2ey",
        "outputId": "03a38ecb-40a2-4ac2-a31d-a2079e4991b0"
      },
      "execution_count": null,
      "outputs": [
        {
          "output_type": "stream",
          "name": "stdout",
          "text": [
            "b und a sind gleich groß\n"
          ]
        }
      ]
    },
    {
      "cell_type": "markdown",
      "source": [
        "**Schleifen**"
      ],
      "metadata": {
        "id": "eKEC3LOMRLuM"
      }
    },
    {
      "cell_type": "code",
      "source": [
        "for i in range (1,4,1):\n",
        "  print(i+i)"
      ],
      "metadata": {
        "colab": {
          "base_uri": "https://localhost:8080/"
        },
        "id": "rXaoJza_llhx",
        "outputId": "09424ad6-fadc-4890-dc38-ecde7be37557"
      },
      "execution_count": null,
      "outputs": [
        {
          "output_type": "stream",
          "name": "stdout",
          "text": [
            "2\n",
            "4\n",
            "6\n"
          ]
        }
      ]
    },
    {
      "cell_type": "code",
      "source": [
        "i = 0\n",
        "while i <= 3:\n",
        "  print(i+i)\n",
        "  i += 1"
      ],
      "metadata": {
        "colab": {
          "base_uri": "https://localhost:8080/"
        },
        "id": "wRgzai4ym-HJ",
        "outputId": "3e4d7018-9c52-4f02-cfc7-88f5d78d4dde"
      },
      "execution_count": null,
      "outputs": [
        {
          "output_type": "stream",
          "name": "stdout",
          "text": [
            "0\n",
            "2\n",
            "4\n",
            "6\n"
          ]
        }
      ]
    }
  ],
  "metadata": {
    "kernelspec": {
      "display_name": "Python 3",
      "language": "python",
      "name": "python3"
    },
    "language_info": {
      "codemirror_mode": {
        "name": "ipython",
        "version": 2
      },
      "file_extension": ".py",
      "mimetype": "text/x-python",
      "name": "python",
      "nbconvert_exporter": "python",
      "pygments_lexer": "ipython2",
      "version": "2.7.6"
    },
    "colab": {
      "provenance": [],
      "include_colab_link": true
    }
  },
  "nbformat": 4,
  "nbformat_minor": 0
}